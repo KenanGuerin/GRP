{
 "cells": [
  {
   "cell_type": "code",
   "execution_count": 3,
   "id": "ba11f3b1-8f88-41e4-b48f-cf563e833538",
   "metadata": {
    "scrolled": true
   },
   "outputs": [
    {
     "ename": "FileNotFoundError",
     "evalue": "[Errno 2] No such file or directory: 'message_1.json'",
     "output_type": "error",
     "traceback": [
      "\u001b[1;31m---------------------------------------------------------------------------\u001b[0m",
      "\u001b[1;31mFileNotFoundError\u001b[0m                         Traceback (most recent call last)",
      "Cell \u001b[1;32mIn[3], line 6\u001b[0m\n\u001b[0;32m      1\u001b[0m \u001b[38;5;28;01mimport\u001b[39;00m \u001b[38;5;21;01mjson\u001b[39;00m\n\u001b[0;32m      3\u001b[0m json_file_path \u001b[38;5;241m=\u001b[39m \u001b[38;5;124m\"\u001b[39m\u001b[38;5;124mmessage_1.json\u001b[39m\u001b[38;5;124m\"\u001b[39m\n\u001b[1;32m----> 6\u001b[0m \u001b[38;5;28;01mwith\u001b[39;00m \u001b[38;5;28;43mopen\u001b[39;49m\u001b[43m(\u001b[49m\u001b[43mjson_file_path\u001b[49m\u001b[43m,\u001b[49m\u001b[38;5;124;43m'\u001b[39;49m\u001b[38;5;124;43mr\u001b[39;49m\u001b[38;5;124;43m'\u001b[39;49m\u001b[43m)\u001b[49m \u001b[38;5;28;01mas\u001b[39;00m j: \u001b[38;5;66;03m#permet d'ouvrir le fichier\u001b[39;00m\n\u001b[0;32m      7\u001b[0m      contents \u001b[38;5;241m=\u001b[39m json\u001b[38;5;241m.\u001b[39mloads(j\u001b[38;5;241m.\u001b[39mread())\n\u001b[0;32m      9\u001b[0m Membres \u001b[38;5;241m=\u001b[39m {}\n",
      "File \u001b[1;32m~\\AppData\\Local\\Programs\\Python\\Python312\\Lib\\site-packages\\IPython\\core\\interactiveshell.py:286\u001b[0m, in \u001b[0;36m_modified_open\u001b[1;34m(file, *args, **kwargs)\u001b[0m\n\u001b[0;32m    279\u001b[0m \u001b[38;5;28;01mif\u001b[39;00m file \u001b[38;5;129;01min\u001b[39;00m {\u001b[38;5;241m0\u001b[39m, \u001b[38;5;241m1\u001b[39m, \u001b[38;5;241m2\u001b[39m}:\n\u001b[0;32m    280\u001b[0m     \u001b[38;5;28;01mraise\u001b[39;00m \u001b[38;5;167;01mValueError\u001b[39;00m(\n\u001b[0;32m    281\u001b[0m         \u001b[38;5;124mf\u001b[39m\u001b[38;5;124m\"\u001b[39m\u001b[38;5;124mIPython won\u001b[39m\u001b[38;5;124m'\u001b[39m\u001b[38;5;124mt let you open fd=\u001b[39m\u001b[38;5;132;01m{\u001b[39;00mfile\u001b[38;5;132;01m}\u001b[39;00m\u001b[38;5;124m by default \u001b[39m\u001b[38;5;124m\"\u001b[39m\n\u001b[0;32m    282\u001b[0m         \u001b[38;5;124m\"\u001b[39m\u001b[38;5;124mas it is likely to crash IPython. If you know what you are doing, \u001b[39m\u001b[38;5;124m\"\u001b[39m\n\u001b[0;32m    283\u001b[0m         \u001b[38;5;124m\"\u001b[39m\u001b[38;5;124myou can use builtins\u001b[39m\u001b[38;5;124m'\u001b[39m\u001b[38;5;124m open.\u001b[39m\u001b[38;5;124m\"\u001b[39m\n\u001b[0;32m    284\u001b[0m     )\n\u001b[1;32m--> 286\u001b[0m \u001b[38;5;28;01mreturn\u001b[39;00m \u001b[43mio_open\u001b[49m\u001b[43m(\u001b[49m\u001b[43mfile\u001b[49m\u001b[43m,\u001b[49m\u001b[43m \u001b[49m\u001b[38;5;241;43m*\u001b[39;49m\u001b[43margs\u001b[49m\u001b[43m,\u001b[49m\u001b[43m \u001b[49m\u001b[38;5;241;43m*\u001b[39;49m\u001b[38;5;241;43m*\u001b[39;49m\u001b[43mkwargs\u001b[49m\u001b[43m)\u001b[49m\n",
      "\u001b[1;31mFileNotFoundError\u001b[0m: [Errno 2] No such file or directory: 'message_1.json'"
     ]
    }
   ],
   "source": [
    "import json\n",
    "\n",
    "json_file_path = \"message_1.json\" #put the Instagram message file here  (how to get the file https://help.instagram.com/181231772500920)\n",
    "\n",
    "\n",
    "with open(json_file_path,'r') as j: #permet d'ouvrir le fichier\n",
    "     contents = json.loads(j.read())\n",
    "\n",
    "Membres = {}\n",
    "Liste_Membres=(contents[\"participants\"])  # recupere la liste des membres\n",
    "for elements in Liste_Membres:\n",
    "    for key, val in dict.items(elements):\n",
    "            Membres[val] = 0 \n",
    "        \n",
    "Liste_Messages=contents[\"messages\" ]  #recupere la liste des messages\n",
    "sender_name=\"\"\n",
    "n=0\n",
    "for elements in Liste_Messages: #associe chaque a chaque membres le nombre de message qu'il a envoyé\n",
    "    if \"sender_name\" in elements:\n",
    "        sender_name=(elements[\"sender_name\"])\n",
    "        Membres[sender_name]=Membres[sender_name]+1\n",
    "\n",
    "print(\"Il y a \",len(Membres),\" membres\")\n",
    "print(\"Il y a \",len(Liste_Messages),\" messages\")"
   ]
  },
  {
   "cell_type": "code",
   "execution_count": 4,
   "id": "ff309b52-8625-4e85-b3db-51c790c900f8",
   "metadata": {},
   "outputs": [
    {
     "ename": "NameError",
     "evalue": "name 'Membres' is not defined",
     "output_type": "error",
     "traceback": [
      "\u001b[1;31m---------------------------------------------------------------------------\u001b[0m",
      "\u001b[1;31mNameError\u001b[0m                                 Traceback (most recent call last)",
      "Cell \u001b[1;32mIn[4], line 2\u001b[0m\n\u001b[0;32m      1\u001b[0m \u001b[38;5;28;01mfrom\u001b[39;00m \u001b[38;5;21;01mcollections\u001b[39;00m \u001b[38;5;28;01mimport\u001b[39;00m OrderedDict \u001b[38;5;66;03m#met les membres par ordre croissant en fonction de leur nombre de messages envoyé\u001b[39;00m\n\u001b[1;32m----> 2\u001b[0m Membres_tri \u001b[38;5;241m=\u001b[39m \u001b[38;5;28mdict\u001b[39m(\u001b[38;5;28msorted\u001b[39m(\u001b[43mMembres\u001b[49m\u001b[38;5;241m.\u001b[39mitems(), key\u001b[38;5;241m=\u001b[39m\u001b[38;5;28;01mlambda\u001b[39;00m item:item[\u001b[38;5;241m1\u001b[39m]))\n\u001b[0;32m      3\u001b[0m \u001b[38;5;28mprint\u001b[39m(\u001b[38;5;124m\"\u001b[39m\u001b[38;5;124mListe des membres par ordre croissant :\u001b[39m\u001b[38;5;124m\"\u001b[39m,Membres_tri)\n",
      "\u001b[1;31mNameError\u001b[0m: name 'Membres' is not defined"
     ]
    }
   ],
   "source": [
    "from collections import OrderedDict #met les membres par ordre croissant en fonction de leur nombre de messages envoyé\n",
    "Membres_tri = dict(sorted(Membres.items(), key=lambda item:item[1]))\n",
    "print(\"Liste des membres par ordre croissant :\",Membres_tri)\n"
   ]
  },
  {
   "cell_type": "code",
   "execution_count": 5,
   "id": "5c71eee0-97ef-4184-9d3e-3323ee0909b3",
   "metadata": {},
   "outputs": [],
   "source": [
    "from datetime import datetime\n",
    "Liste_timestamp_ms=[]\n",
    "Liste_timestamp_dt=[]\n",
    "Liste_timestamp_jour=[]\n",
    "Liste_timestamp_nom_jour=[]\n",
    "Liste_timestamp_semaine=[]\n",
    "Liste_timestamp_mois=[]\n",
    "Liste_timestamp_heure=[]\n",
    "for elements in Liste_Messages:\n",
    "    if \"timestamp_ms\" in elements:\n",
    "        timestamp_ms=(elements[\"timestamp_ms\"]) #recupere les timestamps\n",
    "        timestamp_ms = timestamp_ms // 1000  #retire les 3 dernier chiffre pour les remettres en seconde\n",
    "        Liste_timestamp_ms.append(timestamp_ms)\n",
    "        dt_object = datetime.fromtimestamp(timestamp_ms) #transforme les timestamps en differents info\n",
    "        Liste_timestamp_dt.append(dt_object)\n",
    "        Liste_timestamp_jour.append( dt_object.strftime(\"%j\"))\n",
    "        Liste_timestamp_semaine.append(dt_object.strftime(\"%W\"))\n",
    "        Liste_timestamp_mois.append(dt_object.strftime(\"%B\"))\n",
    "        Liste_timestamp_heure.append(dt_object.strftime(\"%H\"))\n",
    "        Liste_timestamp_nom_jour.append(dt_object.strftime(\"%w\"))\n",
    "\n"
   ]
  },
  {
   "cell_type": "code",
   "execution_count": 6,
   "id": "f1f09f72-e322-4c25-bea4-ffc794665bc8",
   "metadata": {},
   "outputs": [],
   "source": [
    "#message par jour de l'année\n",
    "nb_Liste_timestamp_jour=[0 for k in range (0,len( Liste_timestamp_jour))]\n",
    "Liste_timestamp_jour_one=[]\n",
    "n=-1\n",
    "for i in  Liste_timestamp_jour:\n",
    "    if i not in Liste_timestamp_jour_one:\n",
    "        Liste_timestamp_jour_one.append(i)\n",
    "        n+=1\n",
    "        nb_Liste_timestamp_jour[n]=1\n",
    " \n",
    "    else:\n",
    "        nb_Liste_timestamp_jour[n]=nb_Liste_timestamp_jour[n]+1\n",
    "\n",
    "nb_Liste_timestamp_jour=nb_Liste_timestamp_jour[:n+1]\n",
    "\n",
    "for i in range (0,len(Liste_timestamp_jour_one)):\n",
    "    Liste_timestamp_jour_one[i]=int(Liste_timestamp_jour_one[i])\n"
   ]
  },
  {
   "cell_type": "code",
   "execution_count": 5,
   "id": "d85ab4c6-3141-4800-b690-80db5790fe64",
   "metadata": {},
   "outputs": [
    {
     "ename": "NameError",
     "evalue": "name 'Liste_timestamp_jour_one' is not defined",
     "output_type": "error",
     "traceback": [
      "\u001b[1;31m---------------------------------------------------------------------------\u001b[0m",
      "\u001b[1;31mNameError\u001b[0m                                 Traceback (most recent call last)",
      "Cell \u001b[1;32mIn[5], line 6\u001b[0m\n\u001b[0;32m      3\u001b[0m \u001b[38;5;28;01mimport\u001b[39;00m \u001b[38;5;21;01mmatplotlib\u001b[39;00m\u001b[38;5;21;01m.\u001b[39;00m\u001b[38;5;21;01mpyplot\u001b[39;00m \u001b[38;5;28;01mas\u001b[39;00m \u001b[38;5;21;01mplt\u001b[39;00m\n\u001b[0;32m      5\u001b[0m \u001b[38;5;66;03m# x-coordinates of left sides of bars \u001b[39;00m\n\u001b[1;32m----> 6\u001b[0m left \u001b[38;5;241m=\u001b[39m\u001b[43mListe_timestamp_jour_one\u001b[49m\n\u001b[0;32m      7\u001b[0m \u001b[38;5;66;03m# heights of bars\u001b[39;00m\n\u001b[0;32m      8\u001b[0m height\u001b[38;5;241m=\u001b[39mnb_Liste_timestamp_jour\n",
      "\u001b[1;31mNameError\u001b[0m: name 'Liste_timestamp_jour_one' is not defined"
     ]
    }
   ],
   "source": [
    "#graphique\n",
    "\n",
    "import matplotlib.pyplot as plt\n",
    " \n",
    "# x-coordinates of left sides of bars \n",
    "left =Liste_timestamp_jour_one\n",
    "# heights of bars\n",
    "height=nb_Liste_timestamp_jour\n",
    "\n",
    "\n",
    "# plotting a bar chart\n",
    "plt.bar(left, height, width = 0.8, color = ['red'])\n",
    " \n",
    "# naming the x-axis\n",
    "plt.xlabel('Jour')\n",
    "# naming the y axis\n",
    "plt.ylabel('Nombre de messages ')\n",
    " \n",
    "# giving a title to my graph\n",
    "plt.title('Nombre de messages par jour de l année sur le groupe classe')\n",
    " \n",
    "# function to show the plot\n",
    "plt.show()"
   ]
  },
  {
   "cell_type": "code",
   "execution_count": 8,
   "id": "7615cfef-5cd7-447c-bfad-0ec9d323c78e",
   "metadata": {},
   "outputs": [],
   "source": [
    "#Nombre de messages total par heure sur le groupe classe\n",
    "Liste_timestamp_heure_one=[]\n",
    "nb_timestamp_heure=[]\n",
    "Liste_timestamp_heure=sorted(Liste_timestamp_heure)\n",
    "\n",
    "for i in range (0,len(Liste_timestamp_heure)):\n",
    "    Liste_timestamp_heure[i]=int(Liste_timestamp_heure[i])\n",
    "    \n",
    "Liste_timestamp_heure\n",
    "\n",
    "nb_heure=[0 for l in range (0,24)]\n",
    "heure=[]\n",
    "for i in Liste_timestamp_heure:\n",
    "    if i not in heure:\n",
    "        heure.append(i)\n",
    "        nb_heure[i]=1\n",
    "    else:\n",
    "        nb_heure[i]=nb_heure[i]+1\n",
    "\n",
    "Tab_nb_heure=[]\n",
    "for i in nb_heure:\n",
    "    if i!=0:\n",
    "        Tab_nb_heure.append(i)\n",
    "\n",
    "\n"
   ]
  },
  {
   "cell_type": "code",
   "execution_count": 6,
   "id": "0ae21d65-3abb-4c25-9dd4-6d9494211ac5",
   "metadata": {},
   "outputs": [
    {
     "ename": "NameError",
     "evalue": "name 'heure' is not defined",
     "output_type": "error",
     "traceback": [
      "\u001b[1;31m---------------------------------------------------------------------------\u001b[0m",
      "\u001b[1;31mNameError\u001b[0m                                 Traceback (most recent call last)",
      "Cell \u001b[1;32mIn[6], line 1\u001b[0m\n\u001b[1;32m----> 1\u001b[0m left \u001b[38;5;241m=\u001b[39m\u001b[43mheure\u001b[49m\n\u001b[0;32m      2\u001b[0m height\u001b[38;5;241m=\u001b[39mTab_nb_heure\n\u001b[0;32m      3\u001b[0m plt\u001b[38;5;241m.\u001b[39mbar(left, height, width \u001b[38;5;241m=\u001b[39m \u001b[38;5;241m0.8\u001b[39m, color \u001b[38;5;241m=\u001b[39m [\u001b[38;5;124m'\u001b[39m\u001b[38;5;124mred\u001b[39m\u001b[38;5;124m'\u001b[39m])\n",
      "\u001b[1;31mNameError\u001b[0m: name 'heure' is not defined"
     ]
    }
   ],
   "source": [
    " \n",
    "left =heure\n",
    "height=Tab_nb_heure\n",
    "plt.bar(left, height, width = 0.8, color = ['red'])\n",
    " \n",
    "plt.xlabel('Heure')\n",
    "plt.ylabel('Nombre de messages ')\n",
    " \n",
    "plt.title('Nombre de messages total par heure sur le groupe classe')\n",
    "plt.show()"
   ]
  },
  {
   "cell_type": "code",
   "execution_count": 10,
   "id": "0a64773e-ca1f-4ce5-b47c-0661467a2d26",
   "metadata": {},
   "outputs": [],
   "source": [
    "#Pourcentage de message par jour sur le groupe classe\n",
    "\n",
    "Liste_nom_jour_one=[]\n",
    "nb_nom_jour=[]\n",
    "Liste_nom_jour=sorted(Liste_timestamp_nom_jour)\n",
    "\n",
    "for i in range (0,len(Liste_nom_jour)):\n",
    "    Liste_nom_jour[i]=int(Liste_nom_jour[i])\n",
    "    \n",
    "Liste_nom_jour\n",
    "\n",
    "nb_nom_jour=[0 for l in range (0,24)]\n",
    "nom_jour=[]\n",
    "for i in Liste_nom_jour:\n",
    "    if i not in nom_jour:\n",
    "        nom_jour.append(i)\n",
    "        nb_nom_jour[i]=1\n",
    "    else:\n",
    "       nb_nom_jour[i]=nb_nom_jour[i]+1\n",
    "\n",
    "Tab_nb_nom_jour=[]\n",
    "for i in nb_nom_jour:\n",
    "    if i!=0:\n",
    "       Tab_nb_nom_jour.append(i)\n",
    "        \n",
    "\n",
    "total=len(Liste_Messages)\n",
    "\n",
    "\n",
    "\n",
    "for i in range(0,(len(Tab_nb_nom_jour))):\n",
    "    Tab_nb_nom_jour[i]=Tab_nb_nom_jour[i]/ len(Liste_Messages) \n",
    "\n",
    "#renonmez les jours de la semaine :)\n",
    "nom_jour[0]=\"Lundi\"\n",
    "nom_jour[1]=\"Mardi\"\n",
    "nom_jour[2]=\"Mercredi\"\n",
    "nom_jour[3]=\"Jeudi\"\n",
    "nom_jour[4]=\"Vendredi\"\n",
    "nom_jour[5]=\"Samedi\"\n",
    "nom_jour[6]=\"Dimanche\"\n",
    "\n",
    "            "
   ]
  },
  {
   "cell_type": "code",
   "execution_count": 7,
   "id": "aa2ff7f9-41e9-4751-8191-cd5f58532e8f",
   "metadata": {},
   "outputs": [
    {
     "ename": "NameError",
     "evalue": "name 'nom_jour' is not defined",
     "output_type": "error",
     "traceback": [
      "\u001b[1;31m---------------------------------------------------------------------------\u001b[0m",
      "\u001b[1;31mNameError\u001b[0m                                 Traceback (most recent call last)",
      "Cell \u001b[1;32mIn[7], line 1\u001b[0m\n\u001b[1;32m----> 1\u001b[0m left \u001b[38;5;241m=\u001b[39m\u001b[43mnom_jour\u001b[49m\n\u001b[0;32m      2\u001b[0m height\u001b[38;5;241m=\u001b[39mTab_nb_nom_jour\n\u001b[0;32m      3\u001b[0m plt\u001b[38;5;241m.\u001b[39mbar(left, height, width \u001b[38;5;241m=\u001b[39m \u001b[38;5;241m0.8\u001b[39m, color \u001b[38;5;241m=\u001b[39m [\u001b[38;5;124m'\u001b[39m\u001b[38;5;124mred\u001b[39m\u001b[38;5;124m'\u001b[39m])\n",
      "\u001b[1;31mNameError\u001b[0m: name 'nom_jour' is not defined"
     ]
    }
   ],
   "source": [
    "left =nom_jour\n",
    "height=Tab_nb_nom_jour\n",
    "plt.bar(left, height, width = 0.8, color = ['red'])\n",
    " \n",
    "plt.xlabel('')\n",
    "plt.ylabel('Nombre de messages ')\n",
    "plt.title('Pourcentage de message par jour sur le groupe classe')\n",
    "plt.show()"
   ]
  },
  {
   "cell_type": "code",
   "execution_count": null,
   "id": "35d4eaaa-6156-409d-b015-875c82cfb5c2",
   "metadata": {},
   "outputs": [],
   "source": []
  },
  {
   "cell_type": "code",
   "execution_count": 12,
   "id": "e7cd1718-848e-4897-98b6-7694d1451f12",
   "metadata": {},
   "outputs": [],
   "source": [
    "#Nombre de messages total par heure sur le groupe classe\n",
    "Liste_timestamp_heure_one=[]\n",
    "nb_timestamp_heure=[]\n",
    "Liste_timestamp_heure=sorted(Liste_timestamp_heure)\n",
    "\n",
    "for i in range (0,len(Liste_timestamp_heure)):\n",
    "    Liste_timestamp_heure[i]=int(Liste_timestamp_heure[i])\n",
    "    \n",
    "Liste_timestamp_heure\n",
    "\n",
    "nb_heure=[0 for l in range (0,24)]\n",
    "heure=[]\n",
    "for i in Liste_timestamp_heure:\n",
    "    if i not in heure:\n",
    "        heure.append(i)\n",
    "        nb_heure[i]=1\n",
    "    else:\n",
    "        nb_heure[i]=nb_heure[i]+1\n",
    "\n",
    "Tab_nb_heure=[]\n",
    "for i in nb_heure:\n",
    "    if i!=0:\n",
    "        Tab_nb_heure.append(i)\n",
    "\n",
    "\n",
    "Liste_timestamp_jour_one.reverse()\n",
    "nb_Liste_timestamp_jour.reverse()"
   ]
  },
  {
   "cell_type": "code",
   "execution_count": 13,
   "id": "cc84dfe9-360a-4a7b-a9c0-63f98609a3d2",
   "metadata": {},
   "outputs": [],
   "source": [
    "\n",
    "def graph(title,xlabel,x,ylabel,y,): \n",
    "    '''Trace un graphique selon respectivement :  \n",
    "    (Le titre du graphique,Le titre de l'abscisse,La valeur de l'abscisse,Le titre de l'ordonnée,La valeur de l'ordonnée)'''\n",
    "    plt.plot(x, y) \n",
    "    plt.xlabel(xlabel)\n",
    "    plt.ylabel(ylabel)\n",
    "    plt.title(title)\n",
    "    plt.show()\n",
    "    \n"
   ]
  },
  {
   "cell_type": "code",
   "execution_count": 14,
   "id": "71583990-04d8-4111-87f7-4a064c770664",
   "metadata": {},
   "outputs": [],
   "source": [
    "\n",
    "\n",
    "for i in range(1,len(nb_Liste_timestamp_jour)):\n",
    "\tnb_Liste_timestamp_jour[i]=nb_Liste_timestamp_jour[i-1]+nb_Liste_timestamp_jour[i]\n",
    "\n",
    "\n",
    "def total_Membre(Membre):\n",
    "    ''' renvoie 2 list contenant respectivement la liste des jours ou un message a été envoyé et la liste du nombre total de message envoyé a cette date\n",
    "        utiliser  la fonction graph_total_Membre pour avoir un graphique''' \n",
    "    timestamp=[]\n",
    "    List_timestamp=[]\n",
    "    nb=[]\n",
    "    for elements in Liste_Messages:\n",
    "        if \"sender_name\" in elements:\n",
    "            if elements[\"sender_name\"]== Membre:\n",
    "                temp= elements[\"timestamp_ms\"]\n",
    "                temp= temp // 1000\n",
    "                dt_object = datetime.fromtimestamp(temp) #transforme les timestamps en differents info\n",
    "                timestamp.append( dt_object.strftime(\"%j\"))\n",
    "    nb=[0 for i in range(0,len(timestamp))]\n",
    "    n=0 # quelqun lis ça ?\n",
    "    for i in  range (0,len(timestamp)):\n",
    "        if timestamp[i] not in List_timestamp:\n",
    "            List_timestamp.append(timestamp[i])\n",
    "            nb[n]=nb[n]+1\n",
    "            n=n+1\n",
    "        else:\n",
    "            nb[n]=nb[n]+1\n",
    "    List_nb=[]\n",
    "    for i in nb:\n",
    "        if i != 0:\n",
    "            List_nb.append(i)\n",
    "     # si on cut ici ça donne le nombre de message envoyé par jour (que par jour ou il y a des message envoyé)\n",
    "    for i in range (0,len(List_timestamp)):\n",
    "        List_timestamp[i]=int(List_timestamp[i])\n",
    "    List_timestamp_temp=[]\n",
    "    List_nb_temp=[]\n",
    "    while List_timestamp[0] < 249:\n",
    "        List_timestamp_temp.append(List_timestamp[0])\n",
    "        List_nb_temp.append(List_nb[0])\n",
    "        List_timestamp.pop(0)\n",
    "        List_nb.pop(0)\n",
    "    List_timestamp.reverse()\n",
    "    List_nb.reverse()\n",
    "    List_timestamp_temp.reverse()\n",
    "    List_nb_temp.reverse()\n",
    "    for i in List_timestamp_temp:\n",
    "        i=i+365\n",
    "        List_timestamp.append(i)\n",
    "    for i in  List_nb_temp:\n",
    "        List_nb.append(i)\n",
    "    \n",
    "    # si on cut ici ça donne le nombre de message envoyé par jour (que par jour ou il y a des message envoyé)\n",
    "    #return (List_timestamp,List_nb)\n",
    "    \n",
    "    for i in range (1,len(List_nb)):\n",
    "        List_nb[i]=List_nb[i-1]+List_nb[i]\n",
    "    List_nb[-2]=List_nb[-2]+1\n",
    "    List_nb.pop(-1)\n",
    "\n",
    "\n",
    "    return (List_timestamp,List_nb)\n",
    "    \n",
    "    \n",
    "def pick1(L):\n",
    "    \"\"\"return l'element d'indice [0] d'une liste \"\"\"\n",
    "    return L[0]\n",
    "def pick2(L):\n",
    "    \"\"\"return l'element d'indice [1] d'une liste \"\"\"\n",
    "    return L[1]\n",
    "\n",
    "def correct(L1,L2):\n",
    "    \"\"\"Verifie que les 2 liste on la meme longueur , si non retire les elements de L1 jusqu'a ce que ce soit vrai \"\"\"\n",
    "    if len(L1) != len (L2):\n",
    "            while  len(L1) != len (L2):\n",
    "                L1.pop(0)\n",
    "    return(L1,L2)"
   ]
  },
  {
   "cell_type": "code",
   "execution_count": 8,
   "id": "8410fdfb-ab8a-4fcd-b838-475009159c72",
   "metadata": {},
   "outputs": [
    {
     "ename": "NameError",
     "evalue": "name 'pick1' is not defined",
     "output_type": "error",
     "traceback": [
      "\u001b[1;31m---------------------------------------------------------------------------\u001b[0m",
      "\u001b[1;31mNameError\u001b[0m                                 Traceback (most recent call last)",
      "Cell \u001b[1;32mIn[8], line 15\u001b[0m\n\u001b[0;32m     11\u001b[0m     plt\u001b[38;5;241m.\u001b[39mtitle(\u001b[38;5;124m\"\u001b[39m\u001b[38;5;124mNombre de message en fonction du temps\u001b[39m\u001b[38;5;124m\"\u001b[39m)\n\u001b[0;32m     12\u001b[0m     plt\u001b[38;5;241m.\u001b[39mshow()\n\u001b[1;32m---> 15\u001b[0m List_timestamp\u001b[38;5;241m=\u001b[39m\u001b[43mpick1\u001b[49m(total_Membre(\u001b[38;5;124m\"\u001b[39m\u001b[38;5;124mxayag_\u001b[39m\u001b[38;5;124m\"\u001b[39m))\n\u001b[0;32m     16\u001b[0m List_nb\u001b[38;5;241m=\u001b[39mpick2(total_Membre(\u001b[38;5;124m\"\u001b[39m\u001b[38;5;124mxayag_\u001b[39m\u001b[38;5;124m\"\u001b[39m))\n\u001b[0;32m     18\u001b[0m correct(List_timestamp,List_nb)\n",
      "\u001b[1;31mNameError\u001b[0m: name 'pick1' is not defined"
     ]
    }
   ],
   "source": [
    "def graph_total_Membre(Membre):\n",
    "    \"\"\" pareil que total_Membre mais avec un graphique\"\"\"\n",
    "    List_timestamp=pick1(total_Membre(Membre))\n",
    "    List_nb=pick2(total_Membre(Membre))\n",
    "    \n",
    "    correct(List_timestamp,List_nb)\n",
    "    plt.plot(List_timestamp, List_nb) \n",
    "    \n",
    "    plt.xlabel(\"Jour\")\n",
    "    plt.ylabel(\"Nombre de message \")\n",
    "    plt.title(\"Nombre de message en fonction du temps\")\n",
    "    plt.show()\n",
    "    \n",
    "\n",
    "List_timestamp=pick1(total_Membre(\"xayag_\"))\n",
    "List_nb=pick2(total_Membre(\"xayag_\"))\n",
    "\n",
    "correct(List_timestamp,List_nb)\n",
    "plt.plot(List_timestamp, List_nb) \n",
    "\n",
    "plt.xlabel(\"Jour\")\n",
    "plt.ylabel(\"Nombre de message \")\n",
    "plt.title(\"Nombre de message en fonction du temps\")\n",
    "plt.show()"
   ]
  },
  {
   "cell_type": "code",
   "execution_count": 9,
   "id": "8f26ae7e-14ff-44bf-8b0f-84b0fc52a15d",
   "metadata": {},
   "outputs": [
    {
     "ename": "NameError",
     "evalue": "name 'Liste_timestamp_jour_one' is not defined",
     "output_type": "error",
     "traceback": [
      "\u001b[1;31m---------------------------------------------------------------------------\u001b[0m",
      "\u001b[1;31mNameError\u001b[0m                                 Traceback (most recent call last)",
      "Cell \u001b[1;32mIn[9], line 1\u001b[0m\n\u001b[1;32m----> 1\u001b[0m \u001b[38;5;28;01mfor\u001b[39;00m i \u001b[38;5;129;01min\u001b[39;00m \u001b[38;5;28mrange\u001b[39m (\u001b[38;5;241m0\u001b[39m,\u001b[38;5;28mlen\u001b[39m(\u001b[43mListe_timestamp_jour_one\u001b[49m)):\n\u001b[0;32m      2\u001b[0m     \u001b[38;5;28;01mif\u001b[39;00m Liste_timestamp_jour_one[i] \u001b[38;5;241m<\u001b[39m \u001b[38;5;241m249\u001b[39m :\n\u001b[0;32m      3\u001b[0m         Liste_timestamp_jour_one[i]\u001b[38;5;241m=\u001b[39mListe_timestamp_jour_one[i]\u001b[38;5;241m+\u001b[39m\u001b[38;5;241m365\u001b[39m\n",
      "\u001b[1;31mNameError\u001b[0m: name 'Liste_timestamp_jour_one' is not defined"
     ]
    }
   ],
   "source": [
    "for i in range (0,len(Liste_timestamp_jour_one)):\n",
    "    if Liste_timestamp_jour_one[i] < 249 :\n",
    "        Liste_timestamp_jour_one[i]=Liste_timestamp_jour_one[i]+365\n",
    "graph('Evolution nombre total de message','Jour',Liste_timestamp_jour_one,'Nb de msg ',nb_Liste_timestamp_jour)"
   ]
  },
  {
   "cell_type": "code",
   "execution_count": 10,
   "id": "7e0a7063-5229-4458-a09c-13a840b029e8",
   "metadata": {},
   "outputs": [
    {
     "ename": "NameError",
     "evalue": "name 'total_Membre' is not defined",
     "output_type": "error",
     "traceback": [
      "\u001b[1;31m---------------------------------------------------------------------------\u001b[0m",
      "\u001b[1;31mNameError\u001b[0m                                 Traceback (most recent call last)",
      "Cell \u001b[1;32mIn[10], line 1\u001b[0m\n\u001b[1;32m----> 1\u001b[0m \u001b[43mtotal_Membre\u001b[49m(\u001b[38;5;124m'\u001b[39m\u001b[38;5;124mxayag_\u001b[39m\u001b[38;5;124m'\u001b[39m)\n\u001b[0;32m      2\u001b[0m List_timestamp\u001b[38;5;241m=\u001b[39mpick1(total_Membre(\u001b[38;5;124m'\u001b[39m\u001b[38;5;124mxayag_\u001b[39m\u001b[38;5;124m'\u001b[39m))\n\u001b[0;32m      3\u001b[0m List_nb\u001b[38;5;241m=\u001b[39mpick2(total_Membre(\u001b[38;5;124m'\u001b[39m\u001b[38;5;124mxayag_\u001b[39m\u001b[38;5;124m'\u001b[39m))\n",
      "\u001b[1;31mNameError\u001b[0m: name 'total_Membre' is not defined"
     ]
    }
   ],
   "source": [
    "\n",
    "total_Membre('xayag_')\n",
    "List_timestamp=pick1(total_Membre('xayag_'))\n",
    "List_nb=pick2(total_Membre('xayag_'))\n",
    "correct(List_timestamp,List_nb)\n",
    "plt.plot(List_timestamp, List_nb ) \n",
    "\n",
    "x=[i for i in range (249,List_timestamp[-1])]\n",
    "y=[i*(1/3) for i in range (0,len(x))]\n",
    "plt.plot(x,y)\n",
    "\n",
    "plt.xlabel(\"Nb de message\")\n",
    "plt.ylabel(\"Jour\")\n",
    "plt.title(\"Comparatif\")\n",
    "plt.show()\n"
   ]
  },
  {
   "cell_type": "code",
   "execution_count": 11,
   "id": "8ab9d369-3cfc-4297-bb5d-8d9c0c70c77b",
   "metadata": {},
   "outputs": [
    {
     "ename": "NameError",
     "evalue": "name 'Liste_Messages' is not defined",
     "output_type": "error",
     "traceback": [
      "\u001b[1;31m---------------------------------------------------------------------------\u001b[0m",
      "\u001b[1;31mNameError\u001b[0m                                 Traceback (most recent call last)",
      "Cell \u001b[1;32mIn[11], line 3\u001b[0m\n\u001b[0;32m      1\u001b[0m react\u001b[38;5;241m=\u001b[39m[]\n\u001b[0;32m      2\u001b[0m reactor\u001b[38;5;241m=\u001b[39m[] \u001b[38;5;66;03m#kaboom\u001b[39;00m\n\u001b[1;32m----> 3\u001b[0m \u001b[38;5;28;01mfor\u001b[39;00m elements \u001b[38;5;129;01min\u001b[39;00m \u001b[43mListe_Messages\u001b[49m: \u001b[38;5;66;03m#reaction\u001b[39;00m\n\u001b[0;32m      4\u001b[0m     \u001b[38;5;28;01mif\u001b[39;00m \u001b[38;5;124m\"\u001b[39m\u001b[38;5;124mreactions\u001b[39m\u001b[38;5;124m\"\u001b[39m \u001b[38;5;129;01min\u001b[39;00m elements:\n\u001b[0;32m      5\u001b[0m         re\u001b[38;5;241m=\u001b[39m[]\n",
      "\u001b[1;31mNameError\u001b[0m: name 'Liste_Messages' is not defined"
     ]
    }
   ],
   "source": [
    "react=[]\n",
    "reactor=[] #kaboom\n",
    "for elements in Liste_Messages: #reaction\n",
    "    if \"reactions\" in elements:\n",
    "        re=[]\n",
    "        reactions=(elements[\"reactions\"])\n",
    "        for i in range (0,len(reactions)):\n",
    "            re=reactions[i]\n",
    "            react.append(re['reaction'])\n",
    "            reactor.append(re['actor'])\n",
    "    \n",
    "#print((react))\n",
    "List_react=[]\n",
    "nb_react=[0 for i in range (0,len(react))]\n",
    "for i in  range (0,len(react)):\n",
    "        if react[i] not in List_react:\n",
    "            List_react.append(react[i])\n",
    "            nb_react[n]=nb_react[n]+1\n",
    "            n=n+1\n",
    "        else:\n",
    "            nb_react[n]=nb_react[n]+1\n",
    "List_nb_react=[]\n",
    "for i in nb_react:\n",
    "        if i != 0:\n",
    "            List_nb_react.append(i)\n",
    "print(List_react)\n",
    "print(List_nb_react)"
   ]
  },
  {
   "cell_type": "code",
   "execution_count": 12,
   "id": "561c458f-649f-4647-9134-417412062397",
   "metadata": {},
   "outputs": [
    {
     "ename": "NameError",
     "evalue": "name 'Liste_Messages' is not defined",
     "output_type": "error",
     "traceback": [
      "\u001b[1;31m---------------------------------------------------------------------------\u001b[0m",
      "\u001b[1;31mNameError\u001b[0m                                 Traceback (most recent call last)",
      "Cell \u001b[1;32mIn[12], line 3\u001b[0m\n\u001b[0;32m      1\u001b[0m react\u001b[38;5;241m=\u001b[39m[]\n\u001b[0;32m      2\u001b[0m reactor\u001b[38;5;241m=\u001b[39m[] \u001b[38;5;66;03m#kaboom\u001b[39;00m\n\u001b[1;32m----> 3\u001b[0m \u001b[38;5;28;01mfor\u001b[39;00m elements \u001b[38;5;129;01min\u001b[39;00m \u001b[43mListe_Messages\u001b[49m: \u001b[38;5;66;03m#reaction\u001b[39;00m\n\u001b[0;32m      4\u001b[0m     \u001b[38;5;28;01mif\u001b[39;00m \u001b[38;5;124m\"\u001b[39m\u001b[38;5;124mreactions\u001b[39m\u001b[38;5;124m\"\u001b[39m \u001b[38;5;129;01min\u001b[39;00m elements:\n\u001b[0;32m      5\u001b[0m         re\u001b[38;5;241m=\u001b[39m[]\n",
      "\u001b[1;31mNameError\u001b[0m: name 'Liste_Messages' is not defined"
     ]
    }
   ],
   "source": [
    "react=[]\n",
    "reactor=[] #kaboom\n",
    "for elements in Liste_Messages: #reaction\n",
    "    if \"reactions\" in elements:\n",
    "        re=[]\n",
    "        reactions=(elements[\"reactions\"])\n",
    "        for i in range (0,len(reactions)):\n",
    "            re=reactions[i]\n",
    "            react.append(re['reaction'])\n",
    "            reactor.append(re['actor'])\n",
    "    \n",
    "#print((react))\n",
    "List_react=[]\n",
    "nb_react=[0 for i in range (0,len(react))]\n",
    "for i in  range (0,len(react)):\n",
    "        if react[i] not in List_react:\n",
    "            List_react.append(react[i])\n",
    "            nb_react[n]=nb_react[n]+1\n",
    "            n=n+1\n",
    "        else:\n",
    "            nb_react[n]=nb_react[n]+1\n",
    "List_nb_react=[]\n",
    "for i in nb_react:\n",
    "        if i != 0:\n",
    "            List_nb_react.append(i)\n",
    "print(List_react)\n",
    "print(List_nb_react)"
   ]
  },
  {
   "cell_type": "code",
   "execution_count": 13,
   "id": "a8e3f153-662e-441a-a94d-f6bbb8d106ba",
   "metadata": {},
   "outputs": [
    {
     "ename": "NameError",
     "evalue": "name 'total_Membre' is not defined",
     "output_type": "error",
     "traceback": [
      "\u001b[1;31m---------------------------------------------------------------------------\u001b[0m",
      "\u001b[1;31mNameError\u001b[0m                                 Traceback (most recent call last)",
      "Cell \u001b[1;32mIn[13], line 18\u001b[0m\n\u001b[0;32m     15\u001b[0m     \u001b[38;5;28mprint\u001b[39m(\u001b[38;5;124m\"\u001b[39m\u001b[38;5;124mQuand ? :\u001b[39m\u001b[38;5;124m\"\u001b[39m, List_timestamp)\n\u001b[0;32m     16\u001b[0m     \u001b[38;5;28mprint\u001b[39m(\u001b[38;5;124m\"\u001b[39m\u001b[38;5;124mCombien ? :\u001b[39m\u001b[38;5;124m\"\u001b[39m, List_nb)\n\u001b[1;32m---> 18\u001b[0m \u001b[43mgraph_tot_membre\u001b[49m\u001b[43m(\u001b[49m\u001b[38;5;124;43m\"\u001b[39;49m\u001b[38;5;124;43mxayag_\u001b[39;49m\u001b[38;5;124;43m\"\u001b[39;49m\u001b[43m)\u001b[49m\n",
      "Cell \u001b[1;32mIn[13], line 2\u001b[0m, in \u001b[0;36mgraph_tot_membre\u001b[1;34m(pseudo)\u001b[0m\n\u001b[0;32m      1\u001b[0m \u001b[38;5;28;01mdef\u001b[39;00m \u001b[38;5;21mgraph_tot_membre\u001b[39m(pseudo):\n\u001b[1;32m----> 2\u001b[0m     \u001b[43mtotal_Membre\u001b[49m(pseudo)\n\u001b[0;32m      3\u001b[0m     List_timestamp\u001b[38;5;241m=\u001b[39mpick1(total_Membre(pseudo))\n\u001b[0;32m      4\u001b[0m     List_nb\u001b[38;5;241m=\u001b[39mpick2(total_Membre(pseudo))\n",
      "\u001b[1;31mNameError\u001b[0m: name 'total_Membre' is not defined"
     ]
    }
   ],
   "source": [
    "def graph_tot_membre(pseudo):\n",
    "    total_Membre(pseudo)\n",
    "    List_timestamp=pick1(total_Membre(pseudo))\n",
    "    List_nb=pick2(total_Membre(pseudo))\n",
    "    \n",
    "    correct(List_timestamp,List_nb)\n",
    "    plt.plot(List_timestamp, List_nb) \n",
    "    \n",
    "    plt.xlabel(\"Jour\")\n",
    "    str_nb_message_pseudo=str(\"Nombre de message\")\n",
    "    plt.ylabel(str_nb_message_pseudo)\n",
    "    plt.title(\"Nombre de message envoyé en fonction du temps\")\n",
    "    plt.show()\n",
    "    print(\"Qui ? :\", pseudo)\n",
    "    print(\"Quand ? :\", List_timestamp)\n",
    "    print(\"Combien ? :\", List_nb)\n",
    "\n",
    "graph_tot_membre(\"xayag_\")"
   ]
  },
  {
   "cell_type": "code",
   "execution_count": 21,
   "id": "8f44404f-1a40-4b46-8675-51a31f7e4003",
   "metadata": {},
   "outputs": [],
   "source": [
    "#graph('Titre','Heure',heure,'Nb heure',Tab_nb_heure)"
   ]
  },
  {
   "cell_type": "code",
   "execution_count": 35,
   "id": "ecfb3437-2e45-488c-ba7a-bb60b69d23ea",
   "metadata": {},
   "outputs": [
    {
     "name": "stdout",
     "output_type": "stream",
     "text": [
      "Liste des fonctions : \n",
      "\n",
      "graph(title,xlabel,x,ylabel,y,) / fonction utilisable\n",
      "total_Membre(Membre) / fonction utilisable\n",
      "graph_total_Membre / fonction complete \n",
      "Fonction / fonction utilisable\n",
      "pick1 / fonction interne\n",
      "pick2 / fonction interne\n",
      "correct / fonction interne\n",
      "\n"
     ]
    }
   ],
   "source": [
    "def fonctions():\n",
    "    print(\"Liste des fonctions : \")\n",
    "    print(\"\")\n",
    "    print(\"graph(title,xlabel,x,ylabel,y,) / fonction utilisable\")\n",
    "    print(\"total_Membre(Membre) / fonction utilisable\")\n",
    "    print(\"graph_total_Membre / fonction complete \")\n",
    "    print(\"Fonction / fonction utilisable\")\n",
    "    print(\"pick1 / fonction interne\")\n",
    "    print(\"pick2 / fonction interne\")\n",
    "    print(\"correct / fonction interne\")\n",
    "    print(\"\")\n",
    "fonctions()"
   ]
  }
 ],
 "metadata": {
  "kernelspec": {
   "display_name": "Python 3 (ipykernel)",
   "language": "python",
   "name": "python3"
  },
  "language_info": {
   "codemirror_mode": {
    "name": "ipython",
    "version": 3
   },
   "file_extension": ".py",
   "mimetype": "text/x-python",
   "name": "python",
   "nbconvert_exporter": "python",
   "pygments_lexer": "ipython3",
   "version": "3.12.0"
  }
 },
 "nbformat": 4,
 "nbformat_minor": 5
}
